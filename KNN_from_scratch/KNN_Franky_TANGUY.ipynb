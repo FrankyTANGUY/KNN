{
 "cells": [
  {
   "cell_type": "markdown",
   "metadata": {},
   "source": [
    "\n",
    "\n",
    "\n",
    "Codez l’algorithme de KNN sous forme une fonction (def KNN(Data_Test, Data_Train, Label_Train, k=1, **kargs)) qui :\n",
    "Calcul la distance entre Data de test et Data d’apprentissage.\n",
    "Trouve la/les distances plus proche de « k » voisins.\n",
    "Classe Data de test selon la classe majoritaire de « k » voisins.\n",
    "Retourne la classe de Data Test.\n",
    "Réalisez des expérimentations en variant la distance et le nombre de « k ».\n",
    "Calculez les performances (exemple : Acc) et tracez la courbe de performance de chaque expérimentation. (Les résultats avec interprétation/argumentation doivent figurer dans le notebook comme dans le compte rendu)."
   ]
  },
  {
   "cell_type": "code",
   "execution_count": 548,
   "metadata": {},
   "outputs": [
    {
     "data": {
      "text/html": [
       "<div>\n",
       "<style scoped>\n",
       "    .dataframe tbody tr th:only-of-type {\n",
       "        vertical-align: middle;\n",
       "    }\n",
       "\n",
       "    .dataframe tbody tr th {\n",
       "        vertical-align: top;\n",
       "    }\n",
       "\n",
       "    .dataframe thead th {\n",
       "        text-align: right;\n",
       "    }\n",
       "</style>\n",
       "<table border=\"1\" class=\"dataframe\">\n",
       "  <thead>\n",
       "    <tr style=\"text-align: right;\">\n",
       "      <th></th>\n",
       "      <th>Interpretation</th>\n",
       "      <th>Q1</th>\n",
       "      <th>Q10</th>\n",
       "      <th>Q2</th>\n",
       "      <th>Q3</th>\n",
       "      <th>Q4</th>\n",
       "      <th>Q5</th>\n",
       "      <th>Q6</th>\n",
       "      <th>Q7</th>\n",
       "      <th>Q8</th>\n",
       "      <th>Q9</th>\n",
       "      <th>Score</th>\n",
       "    </tr>\n",
       "  </thead>\n",
       "  <tbody>\n",
       "    <tr>\n",
       "      <th>0</th>\n",
       "      <td>C</td>\n",
       "      <td>a</td>\n",
       "      <td>0</td>\n",
       "      <td>v</td>\n",
       "      <td>c</td>\n",
       "      <td>a</td>\n",
       "      <td>b</td>\n",
       "      <td>1</td>\n",
       "      <td>3</td>\n",
       "      <td>2</td>\n",
       "      <td>1</td>\n",
       "      <td>8</td>\n",
       "    </tr>\n",
       "    <tr>\n",
       "      <th>1</th>\n",
       "      <td>C</td>\n",
       "      <td>a</td>\n",
       "      <td>3</td>\n",
       "      <td>c</td>\n",
       "      <td>b</td>\n",
       "      <td>a</td>\n",
       "      <td>d</td>\n",
       "      <td>1</td>\n",
       "      <td>0</td>\n",
       "      <td>2</td>\n",
       "      <td>3</td>\n",
       "      <td>9</td>\n",
       "    </tr>\n",
       "    <tr>\n",
       "      <th>2</th>\n",
       "      <td>C</td>\n",
       "      <td>c</td>\n",
       "      <td>1</td>\n",
       "      <td>b</td>\n",
       "      <td>a</td>\n",
       "      <td>b</td>\n",
       "      <td>a</td>\n",
       "      <td>1</td>\n",
       "      <td>2</td>\n",
       "      <td>2</td>\n",
       "      <td>3</td>\n",
       "      <td>8</td>\n",
       "    </tr>\n",
       "    <tr>\n",
       "      <th>3</th>\n",
       "      <td>C</td>\n",
       "      <td>b</td>\n",
       "      <td>1</td>\n",
       "      <td>c</td>\n",
       "      <td>a</td>\n",
       "      <td>d</td>\n",
       "      <td>a</td>\n",
       "      <td>2</td>\n",
       "      <td>8</td>\n",
       "      <td>3</td>\n",
       "      <td>2</td>\n",
       "      <td>7</td>\n",
       "    </tr>\n",
       "    <tr>\n",
       "      <th>4</th>\n",
       "      <td>C</td>\n",
       "      <td>a</td>\n",
       "      <td>1</td>\n",
       "      <td>c</td>\n",
       "      <td>a</td>\n",
       "      <td>b</td>\n",
       "      <td>a</td>\n",
       "      <td>1</td>\n",
       "      <td>2</td>\n",
       "      <td>3</td>\n",
       "      <td>2</td>\n",
       "      <td>9</td>\n",
       "    </tr>\n",
       "    <tr>\n",
       "      <th>...</th>\n",
       "      <td>...</td>\n",
       "      <td>...</td>\n",
       "      <td>...</td>\n",
       "      <td>...</td>\n",
       "      <td>...</td>\n",
       "      <td>...</td>\n",
       "      <td>...</td>\n",
       "      <td>...</td>\n",
       "      <td>...</td>\n",
       "      <td>...</td>\n",
       "      <td>...</td>\n",
       "      <td>...</td>\n",
       "    </tr>\n",
       "    <tr>\n",
       "      <th>220</th>\n",
       "      <td>B</td>\n",
       "      <td>c</td>\n",
       "      <td>3</td>\n",
       "      <td>c</td>\n",
       "      <td>NaN</td>\n",
       "      <td>c</td>\n",
       "      <td>c</td>\n",
       "      <td>NaN</td>\n",
       "      <td>NaN</td>\n",
       "      <td>3.0</td>\n",
       "      <td>3</td>\n",
       "      <td>14</td>\n",
       "    </tr>\n",
       "    <tr>\n",
       "      <th>221</th>\n",
       "      <td>C</td>\n",
       "      <td>b</td>\n",
       "      <td>2</td>\n",
       "      <td>a</td>\n",
       "      <td>c</td>\n",
       "      <td>NaN</td>\n",
       "      <td>b</td>\n",
       "      <td>NaN</td>\n",
       "      <td>2.0</td>\n",
       "      <td>NaN</td>\n",
       "      <td>3</td>\n",
       "      <td>5</td>\n",
       "    </tr>\n",
       "    <tr>\n",
       "      <th>222</th>\n",
       "      <td>C</td>\n",
       "      <td>a</td>\n",
       "      <td>3</td>\n",
       "      <td>c</td>\n",
       "      <td>b</td>\n",
       "      <td>NaN</td>\n",
       "      <td>NaN</td>\n",
       "      <td>1.0</td>\n",
       "      <td>NaN</td>\n",
       "      <td>3.0</td>\n",
       "      <td>2</td>\n",
       "      <td>8</td>\n",
       "    </tr>\n",
       "    <tr>\n",
       "      <th>223</th>\n",
       "      <td>C</td>\n",
       "      <td>a</td>\n",
       "      <td>1</td>\n",
       "      <td>n</td>\n",
       "      <td>e</td>\n",
       "      <td>a</td>\n",
       "      <td>b</td>\n",
       "      <td>v</td>\n",
       "      <td>t</td>\n",
       "      <td>Y</td>\n",
       "      <td>'</td>\n",
       "      <td>3</td>\n",
       "    </tr>\n",
       "    <tr>\n",
       "      <th>224</th>\n",
       "      <td>C</td>\n",
       "      <td>A</td>\n",
       "      <td>3</td>\n",
       "      <td>b</td>\n",
       "      <td>c</td>\n",
       "      <td>lk</td>\n",
       "      <td>k</td>\n",
       "      <td>n</td>\n",
       "      <td>2</td>\n",
       "      <td>0</td>\n",
       "      <td>5</td>\n",
       "      <td>4</td>\n",
       "    </tr>\n",
       "  </tbody>\n",
       "</table>\n",
       "<p>225 rows × 12 columns</p>\n",
       "</div>"
      ],
      "text/plain": [
       "    Interpretation Q1 Q10 Q2   Q3   Q4   Q5   Q6   Q7   Q8 Q9  Score\n",
       "0                C  a   0  v    c    a    b    1    3    2  1      8\n",
       "1                C  a   3  c    b    a    d    1    0    2  3      9\n",
       "2                C  c   1  b    a    b    a    1    2    2  3      8\n",
       "3                C  b   1  c    a    d    a    2    8    3  2      7\n",
       "4                C  a   1  c    a    b    a    1    2    3  2      9\n",
       "..             ... ..  .. ..  ...  ...  ...  ...  ...  ... ..    ...\n",
       "220              B  c   3  c  NaN    c    c  NaN  NaN  3.0  3     14\n",
       "221              C  b   2  a    c  NaN    b  NaN  2.0  NaN  3      5\n",
       "222              C  a   3  c    b  NaN  NaN  1.0  NaN  3.0  2      8\n",
       "223              C  a   1  n    e    a    b    v    t    Y  '      3\n",
       "224              C  A   3  b    c   lk    k    n    2    0  5      4\n",
       "\n",
       "[225 rows x 12 columns]"
      ]
     },
     "execution_count": 548,
     "metadata": {},
     "output_type": "execute_result"
    }
   ],
   "source": [
    "import pandas as pd\n",
    "import numpy as np\n",
    "import os\n",
    "import glob\n",
    "import sklearn\n",
    "from sklearn import preprocessing\n",
    "import matplotlib.pyplot as plt\n",
    "from sklearn.model_selection import train_test_split\n",
    "\n",
    "\n",
    "df = pd.read_csv('DataSet/total.csv')\n",
    "df\n"
   ]
  },
  {
   "cell_type": "code",
   "execution_count": 549,
   "metadata": {},
   "outputs": [
    {
     "name": "stdout",
     "output_type": "stream",
     "text": [
      "['C' 'C' 'C' 'C' 'C' 'C' 'C' 'B' 'C' 'C' 'B' 'C' 'A' 'C' 'B' 'B' 'C' 'C'\n",
      " 'C' 'C' 'B' 'C' 'C' 'B' 'C' 'C' 'C' 'B' 'C' 'C' 'B' 'C' 'B' 'C' 'C' 'C'\n",
      " 'C' 'C' 'C' 'B' 'C' 'C' 'C' 'C' 'C' 'B' 'C' 'B' 'C' 'C' 'C' 'B' 'C' 'B'\n",
      " 'C' 'C' 'C' 'C' 'C' 'C' 'C' 'C' 'C' 'C' 'B' 'B' 'C' 'C' 'C' 'C' 'C' 'C'\n",
      " 'C' 'C' 'B' 'C' 'C' 'B' 'C' 'C' 'C' 'C' 'B' 'B' 'B' 'C' 'B' 'B' 'B' 'C'\n",
      " 'C' 'C' 'C' 'B' 'B' 'C' 'B' 'C' 'C' 'C' 'B' 'C' 'B' 'B' 'B' 'C' 'B' 'B'\n",
      " 'B' 'B' 'B' 'B' 'C' 'B' 'C' 'B' 'C' 'B' 'B' 'C' 'C' 'C' 'C' 'C' 'B' 'B'\n",
      " 'B' 'C' 'C' 'C' 'C' 'C' 'C' 'C' 'C' 'C' 'A' 'C' 'C' 'C' 'C' 'C' 'C' 'B'\n",
      " 'B' 'C' 'C' 'C' 'C' 'C' 'C' 'C' 'C' 'C' 'B' 'B' 'C' 'C' 'C' 'C' 'C' 'C'\n",
      " 'C' 'C' 'C' 'B' 'B' 'B' 'A' 'C' 'C' 'C' 'B' 'B' 'B' 'B' 'C' 'C' 'B' 'B'\n",
      " 'C' 'C' 'C' 'C' 'C' 'C' 'C' 'B' 'C' 'C' 'B' 'A' 'B' 'C' 'C' 'B' 'B' 'B'\n",
      " 'B' 'B' 'B' 'C' 'C' 'C' 'C' 'C' 'C' 'C' 'C' 'C' 'B' 'B' 'C' 'C' 'C' 'B'\n",
      " 'B' 'A' 'B' 'C' 'B' 'C' 'C' 'C' 'C']\n"
     ]
    }
   ],
   "source": [
    "y=df['Interpretation']\n",
    "y=np.array(y)\n",
    "# le = preprocessing.LabelEncoder()\n",
    "# y=le.fit_transform(y)+1\n",
    "print(y)"
   ]
  },
  {
   "cell_type": "code",
   "execution_count": 550,
   "metadata": {},
   "outputs": [
    {
     "name": "stdout",
     "output_type": "stream",
     "text": [
      "<class 'pandas.core.frame.DataFrame'>\n",
      "RangeIndex: 225 entries, 0 to 224\n",
      "Data columns (total 12 columns):\n",
      " #   Column          Non-Null Count  Dtype \n",
      "---  ------          --------------  ----- \n",
      " 0   Interpretation  225 non-null    object\n",
      " 1   Q1              217 non-null    object\n",
      " 2   Q10             217 non-null    object\n",
      " 3   Q2              213 non-null    object\n",
      " 4   Q3              212 non-null    object\n",
      " 5   Q4              215 non-null    object\n",
      " 6   Q5              211 non-null    object\n",
      " 7   Q6              213 non-null    object\n",
      " 8   Q7              215 non-null    object\n",
      " 9   Q8              213 non-null    object\n",
      " 10  Q9              215 non-null    object\n",
      " 11  Score           225 non-null    int64 \n",
      "dtypes: int64(1), object(11)\n",
      "memory usage: 21.2+ KB\n"
     ]
    },
    {
     "data": {
      "text/plain": [
       "8     33\n",
       "10    26\n",
       "9     24\n",
       "6     22\n",
       "7     19\n",
       "0     15\n",
       "11    13\n",
       "4     10\n",
       "12    10\n",
       "5      9\n",
       "14     8\n",
       "13     6\n",
       "1      6\n",
       "3      5\n",
       "20     5\n",
       "2      5\n",
       "17     4\n",
       "16     3\n",
       "19     2\n",
       "Name: Score, dtype: int64"
      ]
     },
     "execution_count": 550,
     "metadata": {},
     "output_type": "execute_result"
    }
   ],
   "source": [
    "df.info() # Description :\n",
    "df.head(5) # Description :\n",
    "df.shape # Description :\n",
    "df.columns # Description :\n",
    "df[\"Q1\"].nunique() # Description :\n",
    "df[\"Q1\"].unique() # Description :\n",
    "df.columns.nunique() # Description :\n",
    "df['Score'].value_counts() # Description :"
   ]
  },
  {
   "cell_type": "code",
   "execution_count": 551,
   "metadata": {},
   "outputs": [
    {
     "name": "stdout",
     "output_type": "stream",
     "text": [
      "Interpretation     0\n",
      "Q1                 8\n",
      "Q10                8\n",
      "Q2                12\n",
      "Q3                13\n",
      "Q4                10\n",
      "Q5                14\n",
      "Q6                12\n",
      "Q7                10\n",
      "Q8                12\n",
      "Q9                10\n",
      "Score              0\n",
      "dtype: int64\n"
     ]
    }
   ],
   "source": [
    "print(df.isna().sum())"
   ]
  },
  {
   "cell_type": "markdown",
   "metadata": {},
   "source": [
    "Je décide de partir du principe de remplacer les valeurs erronées et manquantes par des valeurs qui n'influenceront pas le score. D'après le code Python, ces valeurs sont b ou 2. "
   ]
  },
  {
   "cell_type": "code",
   "execution_count": 552,
   "metadata": {
    "scrolled": true
   },
   "outputs": [
    {
     "name": "stdout",
     "output_type": "stream",
     "text": [
      "    Q1 Q2 Q3 Q4 Q5\n",
      "0    a  b  c  a  b\n",
      "1    a  c  b  a  a\n",
      "2    c  b  a  b  a\n",
      "3    b  c  a  a  a\n",
      "4    a  c  a  b  a\n",
      "..  .. .. .. .. ..\n",
      "220  c  c  c  c  c\n",
      "221  b  a  c  a  b\n",
      "222  a  c  b  a  a\n",
      "223  a  b  c  a  b\n",
      "224  a  b  c  a  a\n",
      "\n",
      "[225 rows x 5 columns]\n",
      "Q1    0\n",
      "Q2    0\n",
      "Q3    0\n",
      "Q4    0\n",
      "Q5    0\n",
      "dtype: int64\n"
     ]
    }
   ],
   "source": [
    "df_lettre=df[[\"Q1\",\"Q2\",\"Q3\",\"Q4\",\"Q5\"]]\n",
    "df_lettre=df_lettre.replace({'A':'a', 'B': 'b', 'C': 'c'})\n",
    "df_lettre=df_lettre[df_lettre.isin([\"a\",\"b\",\"c\"])]\n",
    "# print(df_lettre.mode())\n",
    "df_lettre= df_lettre.fillna(df_lettre.mode().iloc[0])\n",
    "# df_lettre= df_lettre.fillna('b')\n",
    "print(df_lettre)\n",
    "print(df_lettre.isna().sum())"
   ]
  },
  {
   "cell_type": "code",
   "execution_count": 553,
   "metadata": {},
   "outputs": [
    {
     "name": "stdout",
     "output_type": "stream",
     "text": [
      "     Q1  Q2  Q3  Q4  Q5\n",
      "0     1   2   3   1   2\n",
      "1     1   3   2   1   1\n",
      "2     3   2   1   2   1\n",
      "3     2   3   1   1   1\n",
      "4     1   3   1   2   1\n",
      "..   ..  ..  ..  ..  ..\n",
      "220   3   3   3   3   3\n",
      "221   2   1   3   1   2\n",
      "222   1   3   2   1   1\n",
      "223   1   2   3   1   2\n",
      "224   1   2   3   1   1\n",
      "\n",
      "[225 rows x 5 columns] (225, 12)\n"
     ]
    }
   ],
   "source": [
    "le = preprocessing.LabelEncoder()\n",
    "for i in df_lettre:\n",
    "    df_lettre[i]=le.fit_transform(df_lettre[i])+1\n",
    "\n",
    "print(df_lettre,df.shape)"
   ]
  },
  {
   "cell_type": "code",
   "execution_count": 554,
   "metadata": {},
   "outputs": [
    {
     "name": "stdout",
     "output_type": "stream",
     "text": [
      "      Q6   Q7   Q8   Q9  Q10\n",
      "0    1.0  3.0  2.0  1.0  2.0\n",
      "1    1.0  3.0  2.0  3.0  3.0\n",
      "2    1.0  2.0  2.0  3.0  1.0\n",
      "3    2.0  3.0  3.0  2.0  1.0\n",
      "4    1.0  2.0  3.0  2.0  1.0\n",
      "..   ...  ...  ...  ...  ...\n",
      "220  2.0  3.0  2.0  3.0  3.0\n",
      "221  2.0  3.0  2.0  3.0  2.0\n",
      "222  2.0  3.0  2.0  2.0  3.0\n",
      "223  2.0  3.0  2.0  2.0  1.0\n",
      "224  2.0  2.0  2.0  2.0  3.0\n",
      "\n",
      "[225 rows x 5 columns]\n",
      "Q6     0\n",
      "Q7     0\n",
      "Q8     0\n",
      "Q9     0\n",
      "Q10    0\n",
      "dtype: int64\n"
     ]
    }
   ],
   "source": [
    "df_num=df[[\"Q6\",\"Q7\",\"Q8\",\"Q9\",\"Q10\"]]\n",
    "df_num=df_num[df_num.isin([\"1\",\"2\",\"3\"])]\n",
    "df_num=df_num.replace({'1':1, '2': 2, '3': 3})\n",
    "df_num= df_num.fillna(df_num.mode().iloc[0])\n",
    "# df_num= df_num.fillna(2)\n",
    "print(df_num)\n",
    "print(df_num.isna().sum())"
   ]
  },
  {
   "cell_type": "code",
   "execution_count": 555,
   "metadata": {},
   "outputs": [
    {
     "name": "stdout",
     "output_type": "stream",
     "text": [
      "      Q6   Q7   Q8   Q9  Q10\n",
      "0    1.0  3.0  2.0  1.0  2.0\n",
      "1    1.0  3.0  2.0  3.0  3.0\n",
      "2    1.0  2.0  2.0  3.0  1.0\n",
      "3    2.0  3.0  3.0  2.0  1.0\n",
      "4    1.0  2.0  3.0  2.0  1.0\n",
      "..   ...  ...  ...  ...  ...\n",
      "220  2.0  3.0  2.0  3.0  3.0\n",
      "221  2.0  3.0  2.0  3.0  2.0\n",
      "222  2.0  3.0  2.0  2.0  3.0\n",
      "223  2.0  3.0  2.0  2.0  1.0\n",
      "224  2.0  2.0  2.0  2.0  3.0\n",
      "\n",
      "[225 rows x 5 columns]\n"
     ]
    }
   ],
   "source": [
    "print (df_num)"
   ]
  },
  {
   "cell_type": "code",
   "execution_count": 556,
   "metadata": {},
   "outputs": [
    {
     "name": "stdout",
     "output_type": "stream",
     "text": [
      "[[1. 2. 3. ... 2. 1. 2.]\n",
      " [1. 3. 2. ... 2. 3. 3.]\n",
      " [3. 2. 1. ... 2. 3. 1.]\n",
      " ...\n",
      " [1. 3. 2. ... 2. 2. 3.]\n",
      " [1. 2. 3. ... 2. 2. 1.]\n",
      " [1. 2. 3. ... 2. 2. 3.]] (225, 10)\n",
      "['C' 'C' 'C' 'C' 'C' 'C' 'C' 'B' 'C' 'C' 'B' 'C' 'A' 'C' 'B' 'B' 'C' 'C'\n",
      " 'C' 'C' 'B' 'C' 'C' 'B' 'C' 'C' 'C' 'B' 'C' 'C' 'B' 'C' 'B' 'C' 'C' 'C'\n",
      " 'C' 'C' 'C' 'B' 'C' 'C' 'C' 'C' 'C' 'B' 'C' 'B' 'C' 'C' 'C' 'B' 'C' 'B'\n",
      " 'C' 'C' 'C' 'C' 'C' 'C' 'C' 'C' 'C' 'C' 'B' 'B' 'C' 'C' 'C' 'C' 'C' 'C'\n",
      " 'C' 'C' 'B' 'C' 'C' 'B' 'C' 'C' 'C' 'C' 'B' 'B' 'B' 'C' 'B' 'B' 'B' 'C'\n",
      " 'C' 'C' 'C' 'B' 'B' 'C' 'B' 'C' 'C' 'C' 'B' 'C' 'B' 'B' 'B' 'C' 'B' 'B'\n",
      " 'B' 'B' 'B' 'B' 'C' 'B' 'C' 'B' 'C' 'B' 'B' 'C' 'C' 'C' 'C' 'C' 'B' 'B'\n",
      " 'B' 'C' 'C' 'C' 'C' 'C' 'C' 'C' 'C' 'C' 'A' 'C' 'C' 'C' 'C' 'C' 'C' 'B'\n",
      " 'B' 'C' 'C' 'C' 'C' 'C' 'C' 'C' 'C' 'C' 'B' 'B' 'C' 'C' 'C' 'C' 'C' 'C'\n",
      " 'C' 'C' 'C' 'B' 'B' 'B' 'A' 'C' 'C' 'C' 'B' 'B' 'B' 'B' 'C' 'C' 'B' 'B'\n",
      " 'C' 'C' 'C' 'C' 'C' 'C' 'C' 'B' 'C' 'C' 'B' 'A' 'B' 'C' 'C' 'B' 'B' 'B'\n",
      " 'B' 'B' 'B' 'C' 'C' 'C' 'C' 'C' 'C' 'C' 'C' 'C' 'B' 'B' 'C' 'C' 'C' 'B'\n",
      " 'B' 'A' 'B' 'C' 'B' 'C' 'C' 'C' 'C'] (225,)\n"
     ]
    }
   ],
   "source": [
    "df = pd.concat((df_lettre, df_num), axis=1)\n",
    "x=np.array(df)\n",
    "all=np.column_stack((x,y))\n",
    "print(x,x.shape)\n",
    "print(y,y.shape)\n",
    "x=pd.DataFrame(x)\n",
    "y=pd.DataFrame(y)\n",
    "x_train, x_test, y_train, y_test = train_test_split(x, y, test_size=0.2)"
   ]
  },
  {
   "cell_type": "markdown",
   "metadata": {},
   "source": [
    "## Préparez une fonction permettant de calculer les 3 différentes distances : Euclidean, Manhattan et Minkowski, (def distance(metric=’ Euclidean’, **kargs))."
   ]
  },
  {
   "cell_type": "code",
   "execution_count": 557,
   "metadata": {},
   "outputs": [],
   "source": [
    "def calc_distance(Data_1, Data_2, metric='euclidean', **kargs):\n",
    "    \n",
    "    if kargs.items():\n",
    "        \n",
    "        for key,value in kargs.items():\n",
    "            if key == 'p' :\n",
    "                p = value\n",
    "    else :\n",
    "        p = 3\n",
    "    \n",
    "    if metric == 'euclidean' :\n",
    "        Dis = np.sqrt(np.sum((Data_1-Data_2)**2))\n",
    "    elif metric == 'manhattan' :\n",
    "        Dis = np.abs(np.sum(Data_1-Data_2))\n",
    "    elif metric == 'minkowski':\n",
    "            Dis = (np.sum(np.abs(Data_1-Data_2))**p)**(1/p)\n",
    "    return Dis"
   ]
  },
  {
   "cell_type": "code",
   "execution_count": 558,
   "metadata": {},
   "outputs": [],
   "source": [
    "def distance(Data_1, Data_2, metric='euclidean', **kargs):\n",
    "    \n",
    "    for key,value in kargs.items():\n",
    "        if key == 'p' :\n",
    "            p = value\n",
    "        else :\n",
    "            p = 3\n",
    "    \n",
    "    if metric == 'euclidean' :\n",
    "        Dis = np.sqrt(np.sum((Data_1-Data_2)**2))\n",
    "    elif metric == 'manhattan' :\n",
    "        Dis = np.abs(np.sum(Data_1-Data_2))\n",
    "    elif metric == 'minkowski':\n",
    "            Dis = (np.sum(np.abs(Data_1-Data_2))**3)**(1/3)\n",
    "    return Dis\n",
    "\n",
    "\n",
    "def knn(x_test, x_train, y_train, k, metric) :\n",
    "    \n",
    "\n",
    "    Resultat = []\n",
    "    for j in range(0,len(x_test)):\n",
    "    \n",
    "        D_T = x_test.iloc[j,:]\n",
    "\n",
    "        Distance = []\n",
    "        for i in range(0,len(x_train)):\n",
    "            D_A = x_train.iloc[i,:]\n",
    "            Dis = distance(D_T, D_A, metric=metric)\n",
    "            Distance.append(Dis)\n",
    "\n",
    "        SS = np.sort(Distance)  \n",
    "        S = np.argsort(Distance)\n",
    "\n",
    "        index_petite_distance = S[:k]\n",
    "        Pred = y_train.iloc[index_petite_distance]\n",
    "\n",
    "        Pred = [np.sum((Pred == 'A').astype(int)), np.sum((Pred == 'B').astype(int)), np.sum((Pred == 'C').astype(int))]\n",
    "\n",
    "        Pred = np.argmax(Pred)\n",
    "\n",
    "        if Pred == 0:\n",
    "            P = 'A'\n",
    "        elif Pred == 1 :\n",
    "            P = 'B' \n",
    "        else : P = 'C'\n",
    "        \n",
    "        Resultat.append(P)\n",
    "        \n",
    "    return Resultat\n",
    "\n"
   ]
  },
  {
   "cell_type": "code",
   "execution_count": 559,
   "metadata": {},
   "outputs": [
    {
     "data": {
      "text/plain": [
       "[<matplotlib.lines.Line2D at 0x262619ea550>]"
      ]
     },
     "execution_count": 559,
     "metadata": {},
     "output_type": "execute_result"
    },
    {
     "data": {
      "image/png": "[encoded data removed]",
      "text/plain": [
       "<Figure size 432x288 with 1 Axes>"
      ]
     },
     "metadata": {
      "needs_background": "light"
     },
     "output_type": "display_data"
    }
   ],
   "source": [
    "accuracy = []\n",
    "acc=0\n",
    "metric = 'manhattan'\n",
    "k_voisin = np.arange(1,15)\n",
    "for k in np.arange(1, 15):\n",
    "    y_pred = knn(x_test,x_train, y_train, k, metric)\n",
    "    acc = (np.sum(y_pred == np.array(np.transpose(y_test))))/(len(y_pred))\n",
    "    accuracy=np.append(accuracy,acc)\n",
    "\n",
    "plt.plot(k_voisin,accuracy)"
   ]
  },
  {
   "cell_type": "code",
   "execution_count": 560,
   "metadata": {},
   "outputs": [
    {
     "name": "stdout",
     "output_type": "stream",
     "text": [
      "['B', 'C', 'C', 'C', 'C', 'C', 'C', 'C', 'C', 'C', 'C', 'C', 'C', 'B', 'C', 'C', 'C', 'C', 'C', 'C', 'C', 'C', 'C', 'C', 'C', 'C', 'B', 'C', 'C', 'C', 'C', 'C', 'B', 'B', 'C', 'C', 'B', 'B', 'C', 'C', 'B', 'B', 'C', 'C', 'B']\n"
     ]
    }
   ],
   "source": [
    "k=13\n",
    "y_pred=knn(x_test, x_train, y_train, k, metric);\n",
    "print(y_pred)"
   ]
  },
  {
   "cell_type": "code",
   "execution_count": 561,
   "metadata": {},
   "outputs": [
    {
     "name": "stdout",
     "output_type": "stream",
     "text": [
      "['B', 'C', 'C', 'C', 'C', 'C', 'C', 'C', 'C', 'C', 'C', 'C', 'C', 'B', 'C', 'C', 'C', 'C', 'C', 'C', 'C', 'C', 'C', 'C', 'C', 'C', 'B', 'C', 'C', 'C', 'C', 'C', 'B', 'B', 'C', 'C', 'B', 'B', 'C', 'C', 'B', 'B', 'C', 'C', 'B'] \n",
      " [['B' 'C' 'C' 'C' 'C' 'C' 'B' 'C' 'C' 'C' 'C' 'C' 'B' 'C' 'C' 'C' 'C' 'C'\n",
      "  'C' 'B' 'C' 'C' 'C' 'C' 'C' 'C' 'B' 'B' 'B' 'C' 'B' 'B' 'B' 'B' 'C' 'C'\n",
      "  'C' 'B' 'C' 'C' 'B' 'C' 'C' 'C' 'C']]\n",
      "45\n",
      "0.7555555555555555\n"
     ]
    }
   ],
   "source": [
    "print(y_pred,'\\n',np.array(np.transpose(y_test)))\n",
    "print(len(y_pred))\n",
    "acc = (np.sum(y_pred == np.array(np.transpose(y_test))))/(len(y_pred))\n",
    "print(acc)"
   ]
  },
  {
   "cell_type": "code",
   "execution_count": 562,
   "metadata": {},
   "outputs": [],
   "source": [
    "from sklearn.model_selection import cross_val_score\n",
    "from sklearn.model_selection import GridSearchCV\n",
    "from sklearn.neighbors import KNeighborsClassifier"
   ]
  },
  {
   "cell_type": "code",
   "execution_count": 580,
   "metadata": {},
   "outputs": [
    {
     "data": {
      "text/plain": [
       "GridSearchCV(cv=2, estimator=KNeighborsClassifier(),\n",
       "             param_grid={'metric': ['euclidean', 'manhattan', 'minkowski'],\n",
       "                         'n_neighbors': array([ 1,  2,  3,  4,  5,  6,  7,  8,  9, 10, 11, 12, 13, 14])})"
      ]
     },
     "execution_count": 580,
     "metadata": {},
     "output_type": "execute_result"
    },
    {
     "data": {
      "image/png": "[encoded data removed]",
      "text/plain": [
       "<Figure size 432x288 with 1 Axes>"
      ]
     },
     "metadata": {
      "needs_background": "light"
     },
     "output_type": "display_data"
    }
   ],
   "source": [
    "y_train=np.array(y_train)\n",
    "y_train=np.ravel(y_train)\n",
    "model = KNeighborsClassifier()\n",
    "val_score = []\n",
    "for k in np.arange(1,15):\n",
    "    score = cross_val_score(KNeighborsClassifier(n_neighbors=k), x_train, y_train, cv=2).mean()\n",
    "    val_score.append(score)\n",
    "k_voisin=np.arange(1,15)\n",
    "plt.plot(k_voisin,val_score)\n",
    "\n",
    "param_grid = {'n_neighbors': np.arange(1,15),\n",
    "              'metric': ['euclidean', 'manhattan','minkowski']}\n",
    "\n",
    "grid = GridSearchCV(model, param_grid, cv=2)\n",
    "\n",
    "grid.fit(x_train, y_train)\n",
    "\n"
   ]
  },
  {
   "cell_type": "code",
   "execution_count": 581,
   "metadata": {},
   "outputs": [
    {
     "name": "stdout",
     "output_type": "stream",
     "text": [
      "0.7333333333333334\n",
      "{'metric': 'manhattan', 'n_neighbors': 7}\n"
     ]
    }
   ],
   "source": [
    "print(grid.best_score_)\n",
    "print(grid.best_params_)"
   ]
  },
  {
   "cell_type": "code",
   "execution_count": 582,
   "metadata": {},
   "outputs": [
    {
     "name": "stdout",
     "output_type": "stream",
     "text": [
      "KNeighborsClassifier(metric='manhattan', n_neighbors=7)\n"
     ]
    },
    {
     "data": {
      "text/plain": [
       "0.7333333333333333"
      ]
     },
     "execution_count": 582,
     "metadata": {},
     "output_type": "execute_result"
    }
   ],
   "source": [
    "best = grid.best_estimator_\n",
    "print(best)\n",
    "y_pred_best = best.predict(x_test)\n",
    "best.score(x_test, y_test)"
   ]
  },
  {
   "cell_type": "code",
   "execution_count": 583,
   "metadata": {},
   "outputs": [
    {
     "data": {
      "text/plain": [
       "['best_classifier']"
      ]
     },
     "execution_count": 583,
     "metadata": {},
     "output_type": "execute_result"
    }
   ],
   "source": [
    "from joblib import dump, load\n",
    "dump(best,'best_classifier')"
   ]
  },
  {
   "cell_type": "code",
   "execution_count": 584,
   "metadata": {},
   "outputs": [],
   "source": [
    "le_modele=load('best_classifier')"
   ]
  },
  {
   "cell_type": "code",
   "execution_count": 585,
   "metadata": {},
   "outputs": [
    {
     "name": "stdout",
     "output_type": "stream",
     "text": [
      "KNeighborsClassifier(metric='manhattan', n_neighbors=7)\n"
     ]
    }
   ],
   "source": [
    "print(le_modele)"
   ]
  }
 ],
 "metadata": {
  "kernelspec": {
   "display_name": "Python 3",
   "language": "python",
   "name": "python3"
  },
  "language_info": {
   "codemirror_mode": {
    "name": "ipython",
    "version": 3
   },
   "file_extension": ".py",
   "mimetype": "text/x-python",
   "name": "python",
   "nbconvert_exporter": "python",
   "pygments_lexer": "ipython3",
   "version": "3.8.3"
  }
 },
 "nbformat": 4,
 "nbformat_minor": 4
}
